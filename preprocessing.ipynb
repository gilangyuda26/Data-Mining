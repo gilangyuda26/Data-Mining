{
  "nbformat": 4,
  "nbformat_minor": 0,
  "metadata": {
    "colab": {
      "name": "preprocessing.ipynb",
      "provenance": [],
      "collapsed_sections": []
    },
    "kernelspec": {
      "name": "python3",
      "display_name": "Python 3"
    },
    "language_info": {
      "name": "python"
    }
  },
  "cells": [
    {
      "cell_type": "code",
      "execution_count": null,
      "metadata": {
        "id": "yxa0SlEKxXKb"
      },
      "outputs": [],
      "source": [
        "import numpy as np\n",
        "import matplotlib.pyplot as plt\n",
        "import pandas as pd"
      ]
    },
    {
      "cell_type": "markdown",
      "source": [
        "Numpy merupakan library python yang digunakan untuk komputasi matriks.\n",
        "Matplotlib merupakan library python yang digunakan untuk presentasi data berupa grafik/plot.\n",
        ". . . . ."
      ],
      "metadata": {
        "id": "PPc2tGpr5K3C"
      }
    },
    {
      "cell_type": "code",
      "source": [
        "dataset = pd.read_csv('Data.csv')\n",
        "x = dataset.iloc[:, :-1].values\n",
        "y = dataset.iloc[:, -1].values"
      ],
      "metadata": {
        "id": "1B0nOO476wrt"
      },
      "execution_count": 34,
      "outputs": []
    },
    {
      "cell_type": "code",
      "source": [
        "print(x)"
      ],
      "metadata": {
        "colab": {
          "base_uri": "https://localhost:8080/"
        },
        "id": "_Iv5Q6JpCv7Q",
        "outputId": "76beffdb-2832-407a-8b48-1b9848504f9d"
      },
      "execution_count": 35,
      "outputs": [
        {
          "output_type": "stream",
          "name": "stdout",
          "text": [
            "[['Adi' 30 72000.0]\n",
            " ['Budi' 20 48000.0]\n",
            " ['Cantika' 35 45000.0]\n",
            " ['Budi' 25 61000.0]\n",
            " ['Cantika' 20 nan]\n",
            " ['Adi' 30 58000.0]\n",
            " ['Budi' 25 52000.0]\n",
            " ['Adi' 35 79000.0]\n",
            " ['Cantika' 40 83000.0]\n",
            " ['Adi' 20 67000.0]]\n"
          ]
        }
      ]
    },
    {
      "cell_type": "code",
      "source": [
        "print(y)"
      ],
      "metadata": {
        "colab": {
          "base_uri": "https://localhost:8080/"
        },
        "id": "4YlRPq_ADFGG",
        "outputId": "a1cc505a-6174-4d0b-b4a5-14ded2398129"
      },
      "execution_count": 36,
      "outputs": [
        {
          "output_type": "stream",
          "name": "stdout",
          "text": [
            "['No' 'No' 'Yes' 'No' 'No' 'Yes' 'Yes' 'Yes' 'No' 'Yes']\n"
          ]
        }
      ]
    },
    {
      "cell_type": "code",
      "source": [
        "from sklearn.impute import SimpleImputer\n",
        "imputer = SimpleImputer(missing_values=np.nan, strategy='mean')\n",
        "imputer.fit(x[:, 1:3])\n",
        "x[:, 1:3] = imputer.transform(x[:, 1:3])"
      ],
      "metadata": {
        "id": "HHwJ2qmBDQJ9"
      },
      "execution_count": 37,
      "outputs": []
    },
    {
      "cell_type": "code",
      "source": [
        "print(x)"
      ],
      "metadata": {
        "colab": {
          "base_uri": "https://localhost:8080/"
        },
        "id": "1IzMNGI8IvBN",
        "outputId": "01d53681-1fae-4d75-f895-b10fd25f1922"
      },
      "execution_count": 38,
      "outputs": [
        {
          "output_type": "stream",
          "name": "stdout",
          "text": [
            "[['Adi' 30.0 72000.0]\n",
            " ['Budi' 20.0 48000.0]\n",
            " ['Cantika' 35.0 45000.0]\n",
            " ['Budi' 25.0 61000.0]\n",
            " ['Cantika' 20.0 62777.77777777778]\n",
            " ['Adi' 30.0 58000.0]\n",
            " ['Budi' 25.0 52000.0]\n",
            " ['Adi' 35.0 79000.0]\n",
            " ['Cantika' 40.0 83000.0]\n",
            " ['Adi' 20.0 67000.0]]\n"
          ]
        }
      ]
    },
    {
      "cell_type": "code",
      "source": [
        "from sklearn.compose import ColumnTransformer\n",
        "from sklearn.preprocessing import OneHotEncoder\n",
        "ct = ColumnTransformer(transformers=[('encoder', OneHotEncoder(), [0])], remainder='passthrough')\n",
        "x = np.array(ct.fit_transform(x))"
      ],
      "metadata": {
        "id": "bK0KJiQNI1dI"
      },
      "execution_count": 40,
      "outputs": []
    },
    {
      "cell_type": "code",
      "source": [
        "print(x)"
      ],
      "metadata": {
        "colab": {
          "base_uri": "https://localhost:8080/"
        },
        "id": "fStY9M_9KT8U",
        "outputId": "31848185-0392-4e03-a604-6e98feb71524"
      },
      "execution_count": 41,
      "outputs": [
        {
          "output_type": "stream",
          "name": "stdout",
          "text": [
            "[[1.0 0.0 0.0 30.0 72000.0]\n",
            " [0.0 1.0 0.0 20.0 48000.0]\n",
            " [0.0 0.0 1.0 35.0 45000.0]\n",
            " [0.0 1.0 0.0 25.0 61000.0]\n",
            " [0.0 0.0 1.0 20.0 62777.77777777778]\n",
            " [1.0 0.0 0.0 30.0 58000.0]\n",
            " [0.0 1.0 0.0 25.0 52000.0]\n",
            " [1.0 0.0 0.0 35.0 79000.0]\n",
            " [0.0 0.0 1.0 40.0 83000.0]\n",
            " [1.0 0.0 0.0 20.0 67000.0]]\n"
          ]
        }
      ]
    },
    {
      "cell_type": "code",
      "source": [
        "from sklearn.preprocessing import LabelEncoder\n",
        "le = LabelEncoder()\n",
        "y = le.fit_transform(y)"
      ],
      "metadata": {
        "id": "yOK_6skSKaQ6"
      },
      "execution_count": 42,
      "outputs": []
    },
    {
      "cell_type": "code",
      "source": [
        "print(y)"
      ],
      "metadata": {
        "colab": {
          "base_uri": "https://localhost:8080/"
        },
        "id": "snzNS6I9Kptq",
        "outputId": "987c0876-4bcb-4aaa-c2b5-4211bd9f5971"
      },
      "execution_count": 43,
      "outputs": [
        {
          "output_type": "stream",
          "name": "stdout",
          "text": [
            "[0 0 1 0 0 1 1 1 0 1]\n"
          ]
        }
      ]
    },
    {
      "cell_type": "code",
      "source": [
        "from sklearn.model_selection import train_test_split\n",
        "x_train, x_test, y_train, y_test = train_test_split(x, y, test_size=0.2, random_state=1)"
      ],
      "metadata": {
        "id": "gxb9WZFIK0Q6"
      },
      "execution_count": 44,
      "outputs": []
    },
    {
      "cell_type": "code",
      "source": [
        "print(x_train)"
      ],
      "metadata": {
        "colab": {
          "base_uri": "https://localhost:8080/"
        },
        "id": "qvCr69rkLWWK",
        "outputId": "b088666b-0933-4695-a780-cbce98d4b29e"
      },
      "execution_count": 45,
      "outputs": [
        {
          "output_type": "stream",
          "name": "stdout",
          "text": [
            "[[0.0 1.0 0.0 25.0 52000.0]\n",
            " [0.0 0.0 1.0 20.0 62777.77777777778]\n",
            " [1.0 0.0 0.0 30.0 72000.0]\n",
            " [0.0 1.0 0.0 25.0 61000.0]\n",
            " [0.0 1.0 0.0 20.0 48000.0]\n",
            " [1.0 0.0 0.0 35.0 79000.0]\n",
            " [0.0 0.0 1.0 40.0 83000.0]\n",
            " [1.0 0.0 0.0 30.0 58000.0]]\n"
          ]
        }
      ]
    },
    {
      "cell_type": "code",
      "source": [
        "print(x_test)"
      ],
      "metadata": {
        "colab": {
          "base_uri": "https://localhost:8080/"
        },
        "id": "NauS91WrLhnM",
        "outputId": "c23b3401-767c-4208-b574-efe51d2548bf"
      },
      "execution_count": 46,
      "outputs": [
        {
          "output_type": "stream",
          "name": "stdout",
          "text": [
            "[[0.0 0.0 1.0 35.0 45000.0]\n",
            " [1.0 0.0 0.0 20.0 67000.0]]\n"
          ]
        }
      ]
    },
    {
      "cell_type": "code",
      "source": [
        "print(y_train)"
      ],
      "metadata": {
        "colab": {
          "base_uri": "https://localhost:8080/"
        },
        "id": "Z83VPIMTLlT1",
        "outputId": "14c94dba-fedd-4692-b706-5f00b0156a29"
      },
      "execution_count": 47,
      "outputs": [
        {
          "output_type": "stream",
          "name": "stdout",
          "text": [
            "[1 0 0 0 0 1 0 1]\n"
          ]
        }
      ]
    },
    {
      "cell_type": "code",
      "source": [
        "print(y_test)"
      ],
      "metadata": {
        "colab": {
          "base_uri": "https://localhost:8080/"
        },
        "id": "ZkcgOiZcLo3m",
        "outputId": "1e26ff1f-7fcf-4c11-de3b-fe1e54e54562"
      },
      "execution_count": 48,
      "outputs": [
        {
          "output_type": "stream",
          "name": "stdout",
          "text": [
            "[1 1]\n"
          ]
        }
      ]
    },
    {
      "cell_type": "code",
      "source": [
        "from sklearn.preprocessing import StandardScaler\n",
        "sc = StandardScaler()\n",
        "x_train[:, 3:] = sc.fit_transform(x_train[:, 3:])\n",
        "x_test[:, 3:] = sc.transform(x_test[:, 3:])"
      ],
      "metadata": {
        "id": "DW0WguGTL0Jt"
      },
      "execution_count": 50,
      "outputs": []
    },
    {
      "cell_type": "code",
      "source": [
        "print(x_train)"
      ],
      "metadata": {
        "colab": {
          "base_uri": "https://localhost:8080/"
        },
        "id": "YtzGU_flMhmr",
        "outputId": "952cb81f-b03e-48f4-94c6-253902f6ef7f"
      },
      "execution_count": 51,
      "outputs": [
        {
          "output_type": "stream",
          "name": "stdout",
          "text": [
            "[[0.0 1.0 0.0 -0.4745789978762495 -1.0662015647686784]\n",
            " [0.0 0.0 1.0 -1.2339053944782488 -0.14485143752981997]\n",
            " [1.0 0.0 0.0 0.2847473987257497 0.6435203208292029]\n",
            " [0.0 1.0 0.0 -0.4745789978762495 -0.2968267162496319]\n",
            " [0.0 1.0 0.0 -1.2339053944782488 -1.4081459418882547]\n",
            " [1.0 0.0 0.0 1.044073795327749 1.2419229807884613]\n",
            " [0.0 0.0 1.0 1.8034001919297482 1.5838673579080376]\n",
            " [1.0 0.0 0.0 0.2847473987257497 -0.5532849990893142]]\n"
          ]
        }
      ]
    },
    {
      "cell_type": "code",
      "source": [
        "print(x_test)"
      ],
      "metadata": {
        "colab": {
          "base_uri": "https://localhost:8080/"
        },
        "id": "7XXyYBlyMob7",
        "outputId": "c8c58386-25d0-4152-b963-1fe664a3885f"
      },
      "execution_count": 52,
      "outputs": [
        {
          "output_type": "stream",
          "name": "stdout",
          "text": [
            "[[0.0 0.0 1.0 1.044073795327749 -1.6646042247279371]\n",
            " [1.0 0.0 0.0 -1.2339053944782488 0.2160898494297325]]\n"
          ]
        }
      ]
    }
  ]
}